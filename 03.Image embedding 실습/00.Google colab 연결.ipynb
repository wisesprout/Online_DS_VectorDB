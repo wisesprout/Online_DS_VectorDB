{
  "cells": [
    {
      "cell_type": "markdown",
      "metadata": {
        "id": "0ZHTscKRABXI"
      },
      "source": [
        "### Google colab 연결"
      ]
    },
    {
      "cell_type": "markdown",
      "metadata": {
        "id": "WuvPo3jTABXI"
      },
      "source": [
        "1. Google Drive 연동\n",
        "2. Working directory 세팅\n",
        "3. Data unzipping\n",
        "4. 관련 package 및 모델 download"
      ]
    },
    {
      "cell_type": "code",
      "execution_count": 1,
      "metadata": {
        "id": "v1ZMZu1Xq1Jw"
      },
      "outputs": [],
      "source": [
        "colab = False\n",
        "fastcampus_dir = '/content/drive/MyDrive/fastcampus'"
      ]
    },
    {
      "cell_type": "code",
      "execution_count": 2,
      "metadata": {
        "id": "i5__NUeImfRm"
      },
      "outputs": [],
      "source": [
        "if colab:\n",
        "  import os\n",
        "  import zipfile\n",
        "  from google.colab import drive\n",
        "  drive.mount('/content/drive')\n",
        "  !pip install yolov5\n",
        "  os.chdir(fastcampus_dir)\n",
        "  print(\"Current Working Directory: \", os.getcwd())"
      ]
    },
    {
      "cell_type": "code",
      "execution_count": null,
      "metadata": {
        "id": "922VOxhSofGo"
      },
      "outputs": [],
      "source": [
        "if colab:\n",
        "  anno_zip_path = '/content/drive/MyDrive/fastcampus/val2017(1).zip'\n",
        "\n",
        "  with zipfile.ZipFile(anno_zip_path, 'r') as zip_ref:\n",
        "      zip_ref.extractall('/content/drive/MyDrive/fastcampus/coco')\n",
        "\n",
        "  print(\"Unzipping completed.\")"
      ]
    },
    {
      "cell_type": "code",
      "execution_count": null,
      "metadata": {
        "id": "KirelbXsquOK"
      },
      "outputs": [],
      "source": [
        "if colab:\n",
        "  img_zip_path = '/content/drive/MyDrive/fastcampus/annotations_trainval2017.zip'\n",
        "\n",
        "  with zipfile.ZipFile(img_zip_path, 'r') as zip_ref:\n",
        "      zip_ref.extractall('/content/drive/MyDrive/fastcampus/coco')\n",
        "\n",
        "  print(\"Unzipping completed.\")"
      ]
    },
    {
      "cell_type": "code",
      "execution_count": 3,
      "metadata": {
        "id": "-O3vizcVrtL7"
      },
      "outputs": [],
      "source": [
        "if colab:\n",
        "    import torch\n",
        "    import torchvision\n",
        "    print(\"PyTorch version:\", torch.__version__)\n",
        "    print(\"Torchvision version:\", torchvision.__version__)\n",
        "    print(\"CUDA is available:\", torch.cuda.is_available())\n",
        "    import sys\n",
        "    !{sys.executable} -m pip install opencv-python matplotlib"
      ]
    }
  ],
  "metadata": {
    "accelerator": "GPU",
    "colab": {
      "gpuType": "T4",
      "provenance": []
    },
    "kernelspec": {
      "display_name": "Python 3",
      "name": "python3"
    },
    "language_info": {
      "codemirror_mode": {
        "name": "ipython",
        "version": 3
      },
      "file_extension": ".py",
      "mimetype": "text/x-python",
      "name": "python",
      "nbconvert_exporter": "python",
      "pygments_lexer": "ipython3",
      "version": "3.11.7"
    }
  },
  "nbformat": 4,
  "nbformat_minor": 0
}